{
 "cells": [
  {
   "cell_type": "code",
   "execution_count": 22,
   "metadata": {},
   "outputs": [],
   "source": [
    "import pandas as pd\n",
    "import numpy as np\n",
    "import matplotlib.pyplot as plt\n",
    "from collections import Counter"
   ]
  },
  {
   "cell_type": "code",
   "execution_count": 23,
   "metadata": {},
   "outputs": [],
   "source": [
    "train_df=pd.read_csv('train_set.csv')\n",
    "test_df=pd.read_csv('test_set.csv')"
   ]
  },
  {
   "cell_type": "code",
   "execution_count": 48,
   "metadata": {},
   "outputs": [],
   "source": [
    "def NaiveBayes(train_set, test_set): # Function assumes that the class feature is in a column called 'class'\n",
    "    \n",
    "    correctly_classified=0\n",
    "    \n",
    "    classes=train_set['class'].unique() # Number of unique classes, in this case its a binary classification problem\n",
    "    len_class_0=len(train_set[train_set['class']==classes[0]])\n",
    "    len_class_1=len(train_set[train_set['class']==classes[1]])\n",
    "    \n",
    "    # We calculate the length of every class for computing the probability of each class\n",
    "    \n",
    "    P_class_0= len_class_0 / len(train_set)\n",
    "    P_class_1= len_class_1/ len(train_set)\n",
    "    \n",
    "    class_0_features=train_set[train_set['class']==classes[0]].columns\n",
    "    class_1_features=train_set[train_set['class']==classes[1]].columns\n",
    "    \n",
    "    # Dropping the feature column to pass only the class probabilities into the model\n",
    "    # We will pass all the features of each class into a Counter object which behaves like a dictionary except that it doesn't throw an error when a new key is updated\n",
    "    \n",
    "    class_0_features=class_0_features.drop('class')\n",
    "    class_1_features=class_1_features.drop('class')\n",
    "    \n",
    "    class_0_feature_ctr=Counter()\n",
    "    class_1_feature_ctr=Counter()\n",
    "    \n",
    "    # The two for-loops below will iteratively update the probabilites of each feature of each class with Laplace smoothing applied.\n",
    "    \n",
    "    for feature in class_0_features:\n",
    "        \n",
    "        temp=((train_set[train_set['class']==classes[0]][feature].value_counts()+1)/(len_class_0+len(class_0_features))).to_dict() #Laplace smoothing is applied\n",
    "        class_0_feature_ctr[feature]=temp\n",
    "        \n",
    "    for feature in class_1_features:\n",
    "        temp=((train_set[train_set['class']==classes[1]][feature].value_counts()+1)/(len_class_1+len(class_1_features))).to_dict() #Laplace smoothing is applied\n",
    "        class_1_feature_ctr[feature]=temp\n",
    "        \n",
    "    # Similar preprocessing done for the test set\n",
    "        \n",
    "    test_features=test_set.columns\n",
    "    test_features=test_features.drop('class')\n",
    "    \n",
    "    for i in range(len(test_set)):\n",
    "        \n",
    "        #print('len',len(test_set))\n",
    "        \n",
    "        P_x_C0=np.log(P_class_0) # Initial guess for class 0\n",
    "        P_x_C1=np.log(P_class_1) # Initial guess for class 1\n",
    "        \n",
    "        # The try/except statements are utilize to detect features that are not in a training set. Normally, an key error exception would be thrown but we will use this as \n",
    "        # an indicator that the test set has a feature that wasn't in the training set.\n",
    "        # Log of probability is used to prevent underflow e.g. the program won't be able to accuratel track very small values.\n",
    "            \n",
    "        for feature in test_features: \n",
    "            #print(feature)\n",
    "            try:\n",
    "                \n",
    "                P_x_C0+=np.log(class_0_feature_ctr[feature][test_df.iloc[i][feature]])\n",
    "            \n",
    "            except: # Feature not seen in the training set\n",
    "                \n",
    "                P_x_C0+=np.log(1/(len_class_0+len(test_features)))\n",
    "            \n",
    "            try:\n",
    "\n",
    "                P_x_C1+=np.log(class_1_feature_ctr[feature][test_df.iloc[i][feature]])\n",
    "                \n",
    "            except: # Feature not seen in the training set\n",
    "                \n",
    "                P_x_C1+=np.log(1/(len_class_1+len(test_features)))\n",
    "                \n",
    "        if P_x_C0>P_x_C1:\n",
    "            \n",
    "            print('Instance #' ,i,'|', 'y_hat:', classes[0], '|', 'y_train:', test_set['class'].iloc[i], '|', 'posterior log prob:', round(P_x_C0,4))\n",
    "            \n",
    "            if test_set['class'].iloc[i]==classes[0]:\n",
    "                \n",
    "                correctly_classified+=1\n",
    "        else:\n",
    "                             \n",
    "            print('Instance #',i, '|', 'y_hat: ', classes[1], '|', 'y_train:', test_set['class'].iloc[i], '|', 'posterior log prob:', round(P_x_C1,4))\n",
    "            \n",
    "            if test_set['class'].iloc[i]==classes[1]:\n",
    "                \n",
    "                correctly_classified+=1\n",
    "\n",
    "    print ('\\n' , correctly_classified, 'out of ', len(test_set), ' instances were correctly classified' )"
   ]
  },
  {
   "cell_type": "code",
   "execution_count": 49,
   "metadata": {},
   "outputs": [
    {
     "name": "stdout",
     "output_type": "stream",
     "text": [
      "Instance # 0 | y_hat: malign_lymph | y_train: malign_lymph | posterior log prob: -17.3259\n",
      "Instance # 1 | y_hat: malign_lymph | y_train: malign_lymph | posterior log prob: -17.4634\n",
      "Instance # 2 | y_hat: malign_lymph | y_train: malign_lymph | posterior log prob: -29.8021\n",
      "Instance # 3 | y_hat:  metastases | y_train: malign_lymph | posterior log prob: -23.9724\n",
      "Instance # 4 | y_hat:  metastases | y_train: malign_lymph | posterior log prob: -15.453\n",
      "Instance # 5 | y_hat: malign_lymph | y_train: malign_lymph | posterior log prob: -16.7703\n",
      "Instance # 6 | y_hat: malign_lymph | y_train: malign_lymph | posterior log prob: -16.3385\n",
      "Instance # 7 | y_hat: malign_lymph | y_train: malign_lymph | posterior log prob: -21.5606\n",
      "Instance # 8 | y_hat: malign_lymph | y_train: malign_lymph | posterior log prob: -15.1677\n",
      "Instance # 9 | y_hat: malign_lymph | y_train: malign_lymph | posterior log prob: -18.865\n",
      "Instance # 10 | y_hat:  metastases | y_train: malign_lymph | posterior log prob: -17.0497\n",
      "Instance # 11 | y_hat:  metastases | y_train: malign_lymph | posterior log prob: -19.2449\n",
      "Instance # 12 | y_hat: malign_lymph | y_train: malign_lymph | posterior log prob: -15.5555\n",
      "Instance # 13 | y_hat: malign_lymph | y_train: malign_lymph | posterior log prob: -26.3762\n",
      "Instance # 14 | y_hat: malign_lymph | y_train: malign_lymph | posterior log prob: -17.2411\n",
      "Instance # 15 | y_hat: malign_lymph | y_train: malign_lymph | posterior log prob: -17.7712\n",
      "Instance # 16 | y_hat:  metastases | y_train: malign_lymph | posterior log prob: -18.0045\n",
      "Instance # 17 | y_hat: malign_lymph | y_train: malign_lymph | posterior log prob: -16.7266\n",
      "Instance # 18 | y_hat:  metastases | y_train: metastases | posterior log prob: -18.1217\n",
      "Instance # 19 | y_hat:  metastases | y_train: metastases | posterior log prob: -14.667\n",
      "Instance # 20 | y_hat:  metastases | y_train: metastases | posterior log prob: -20.7485\n",
      "Instance # 21 | y_hat:  metastases | y_train: metastases | posterior log prob: -14.6318\n",
      "Instance # 22 | y_hat:  metastases | y_train: metastases | posterior log prob: -17.8203\n",
      "Instance # 23 | y_hat:  metastases | y_train: metastases | posterior log prob: -15.1296\n",
      "Instance # 24 | y_hat:  metastases | y_train: metastases | posterior log prob: -21.3074\n",
      "Instance # 25 | y_hat:  metastases | y_train: metastases | posterior log prob: -19.0517\n",
      "Instance # 26 | y_hat:  metastases | y_train: metastases | posterior log prob: -15.5077\n",
      "Instance # 27 | y_hat:  metastases | y_train: metastases | posterior log prob: -17.6467\n",
      "Instance # 28 | y_hat:  metastases | y_train: metastases | posterior log prob: -18.3836\n",
      "Instance # 29 | y_hat:  metastases | y_train: metastases | posterior log prob: -15.2517\n",
      "Instance # 30 | y_hat:  metastases | y_train: metastases | posterior log prob: -18.0614\n",
      "Instance # 31 | y_hat:  metastases | y_train: metastases | posterior log prob: -17.2271\n",
      "Instance # 32 | y_hat:  metastases | y_train: metastases | posterior log prob: -18.9038\n",
      "Instance # 33 | y_hat:  metastases | y_train: metastases | posterior log prob: -18.6912\n",
      "Instance # 34 | y_hat:  metastases | y_train: metastases | posterior log prob: -15.6378\n",
      "Instance # 35 | y_hat:  metastases | y_train: metastases | posterior log prob: -16.0244\n",
      "Instance # 36 | y_hat:  metastases | y_train: metastases | posterior log prob: -19.0504\n",
      "Instance # 37 | y_hat:  metastases | y_train: metastases | posterior log prob: -15.3436\n",
      "Instance # 38 | y_hat:  metastases | y_train: metastases | posterior log prob: -17.4502\n",
      "Instance # 39 | y_hat:  metastases | y_train: metastases | posterior log prob: -18.5697\n",
      "Instance # 40 | y_hat:  metastases | y_train: metastases | posterior log prob: -18.7552\n",
      "Instance # 41 | y_hat:  metastases | y_train: metastases | posterior log prob: -18.3521\n",
      "\n",
      " 37 out of  42  instances were correctly classified\n"
     ]
    }
   ],
   "source": [
    "NaiveBayes(train_df, test_df)"
   ]
  },
  {
   "cell_type": "code",
   "execution_count": 26,
   "metadata": {},
   "outputs": [],
   "source": [
    "# This is similar to the Naive Bayes function but with no output- its solely used for testing the model and to report accuracy\n",
    "\n",
    "def NaiveBayes_testing(train_set, test_set): # Function assumes that the class feature is in a column called 'class'\n",
    "    \n",
    "    correctly_classified=0\n",
    "    \n",
    "    classes=train_set['class'].unique()\n",
    "    len_class_0=len(train_set[train_set['class']==classes[0]])\n",
    "    len_class_1=len(train_set[train_set['class']==classes[1]])\n",
    "    \n",
    "    P_class_0= len_class_0 / len(train_set)\n",
    "    P_class_1= len_class_1/ len(train_set)\n",
    "    \n",
    "    class_0_features=train_set[train_set['class']==classes[0]].columns\n",
    "    class_1_features=train_set[train_set['class']==classes[1]].columns\n",
    "    \n",
    "    class_0_features=class_0_features.drop('class')\n",
    "    class_1_features=class_1_features.drop('class')\n",
    "    \n",
    "    class_0_feature_ctr=Counter()\n",
    "    class_1_feature_ctr=Counter()\n",
    "    \n",
    "    for feature in class_0_features:\n",
    "        \n",
    "        temp=((train_set[train_set['class']==classes[0]][feature].value_counts()+1)/(len_class_0+len(class_0_features))).to_dict() #Laplace smoothing is applied\n",
    "        class_0_feature_ctr[feature]=temp\n",
    "        \n",
    "    for feature in class_1_features:\n",
    "        temp=((train_set[train_set['class']==classes[1]][feature].value_counts()+1)/(len_class_1+len(class_1_features))).to_dict() #Laplace smoothing is applied\n",
    "        class_1_feature_ctr[feature]=temp\n",
    "        \n",
    "    test_features=test_set.columns\n",
    "    test_features=test_features.drop('class')\n",
    "    \n",
    "    for i in range(len(test_set)):\n",
    "        \n",
    "        #print('len',len(test_set))\n",
    "        \n",
    "        P_x_C0=np.log(P_class_0) # Initial guess for class 0\n",
    "        P_x_C1=np.log(P_class_1) # Initial guess for class 1\n",
    "            \n",
    "        for feature in test_features: \n",
    "            #print(feature)\n",
    "            try:\n",
    "                \n",
    "                P_x_C0+=np.log(class_0_feature_ctr[feature][test_df.iloc[i][feature]])\n",
    "            \n",
    "            except:\n",
    "                \n",
    "                P_x_C0+=np.log(1/(len_class_0+len(test_features)))\n",
    "            \n",
    "            try:\n",
    "\n",
    "                P_x_C1+=np.log(class_1_feature_ctr[feature][test_df.iloc[i][feature]])\n",
    "                \n",
    "            except:\n",
    "                \n",
    "                P_x_C1+=np.log(1/(len_class_1+len(test_features)))\n",
    "                \n",
    "        if P_x_C0>P_x_C1:\n",
    "            \n",
    "            #print('Instance #' ,i,'|', 'y_hat:', classes[0], '|', 'y_train:', test_set['class'].iloc[i], '|', 'posterior log prob:', round(P_x_C0,4))\n",
    "            \n",
    "            if test_set['class'].iloc[i]==classes[0]:\n",
    "                \n",
    "                correctly_classified+=1\n",
    "        else:\n",
    "                             \n",
    "            #print('Instance #',i, '|', 'y_hat: ', classes[1], '|', 'y_train:', test_set['class'].iloc[i], '|', 'posterior log prob:', round(P_x_C1,4))\n",
    "            \n",
    "            if test_set['class'].iloc[i]==classes[1]:\n",
    "                \n",
    "                correctly_classified+=1\n",
    "    return round(correctly_classified/len(test_set),4)\n",
    "    #print ('\\n' , correctly_classified, 'out of ', len(test_set), ' instances were correctly classified' )"
   ]
  },
  {
   "cell_type": "code",
   "execution_count": 27,
   "metadata": {},
   "outputs": [
    {
     "data": {
      "text/plain": [
       "[0.738075, 0.80355, 0.881]"
      ]
     },
     "execution_count": 27,
     "metadata": {},
     "output_type": "execute_result"
    }
   ],
   "source": [
    "# We test four times on 25%, 50% and full training set then take the average accuracy.\n",
    "\n",
    "training_set_size=[25,50,100]\n",
    "accuracy=[]\n",
    "\n",
    "for size in training_set_size:\n",
    "    \n",
    "    avg_accuracy=0\n",
    "    \n",
    "    for i in range(4):\n",
    "    \n",
    "        avg_accuracy+=NaiveBayes_testing(train_df.sample(size), test_df)\n",
    "        \n",
    "    accuracy.append(avg_accuracy/4)\n",
    "    \n",
    "accuracy    "
   ]
  },
  {
   "cell_type": "code",
   "execution_count": 28,
   "metadata": {},
   "outputs": [
    {
     "data": {
      "image/png": "[encoded data removed]",
      "text/plain": [
       "<Figure size 720x576 with 1 Axes>"
      ]
     },
     "metadata": {
      "needs_background": "light"
     },
     "output_type": "display_data"
    }
   ],
   "source": [
    "plt.figure(figsize=(10,8))\n",
    "plt.plot(training_set_size, accuracy, 'o--')\n",
    "plt.title('Naive Bayes Learning Curve - from scratch implementation')\n",
    "plt.xlabel('Number of instances in the training set')\n",
    "plt.ylabel('Average test accuracy')\n",
    "plt.show()"
   ]
  },
  {
   "cell_type": "markdown",
   "metadata": {},
   "source": [
    "## Now we implement Scikitlearn's Naive Bayes Classifier and compare it with the one we coded from scratch"
   ]
  },
  {
   "cell_type": "code",
   "execution_count": 29,
   "metadata": {},
   "outputs": [],
   "source": [
    "from sklearn.naive_bayes import CategoricalNB\n",
    "from sklearn.naive_bayes import GaussianNB\n",
    "from sklearn.preprocessing import OrdinalEncoder"
   ]
  },
  {
   "cell_type": "code",
   "execution_count": 30,
   "metadata": {},
   "outputs": [],
   "source": [
    "X=train_df.iloc[:, :-1]\n",
    "y=train_df.iloc[:, -1:]\n",
    "\n",
    "X_test=test_df.iloc[:, :-1]\n",
    "y_test=test_df.iloc[:, -1:]"
   ]
  },
  {
   "cell_type": "code",
   "execution_count": 44,
   "metadata": {},
   "outputs": [
    {
     "name": "stdout",
     "output_type": "stream",
     "text": [
      "From scratch model accuracy:  [0.714275, 0.8452, 0.881]\n",
      "Scikitlearn GNB accuracy:  [0.5892857142857143, 0.8095238095238094, 0.8809523809523809]\n"
     ]
    }
   ],
   "source": [
    "training_set_size=[25,50,100]\n",
    "accuracy_scikitlearn=[]\n",
    "accuracy_from_scratch=[]\n",
    "X_enc=OrdinalEncoder()\n",
    "Y_enc=OrdinalEncoder()\n",
    "\n",
    "X_enc.fit(train_df.iloc[:, :-1])\n",
    "Y_enc.fit(train_df.iloc[:, -1:])\n",
    "X_test_encoded=X_enc.transform(X_test)\n",
    "y_test_encoded=Y_enc.transform(y_test).ravel()\n",
    "\n",
    "GNB=GaussianNB()\n",
    "\n",
    "for size in training_set_size:\n",
    "\n",
    "    avg_accuracy_scikit=0\n",
    "    avg_accuracy_from_scratch=0\n",
    "    \n",
    "    for i in range(4):\n",
    "        \n",
    "        GNB_model= GaussianNB()\n",
    "        train_sample=train_df.sample(size)\n",
    "        X=train_sample.iloc[:, :-1]\n",
    "        y=train_sample.iloc[:, -1:]\n",
    "        X_encoded=X_enc.transform(X)\n",
    "        #print(X_encoded)\n",
    "        y_encoded=Y_enc.transform(y).ravel() \n",
    "        GNB_model.fit(X_encoded,y_encoded)\n",
    "        #NB_model.predict(X_test_encoded)\n",
    "        \n",
    "        avg_accuracy_from_scratch+= NaiveBayes_testing(train_sample, test_df)\n",
    "        avg_accuracy_scikit+=  GNB_model.score(X_test_encoded, y_test_encoded)\n",
    "        \n",
    "    accuracy_from_scratch.append(avg_accuracy_from_scratch/4)\n",
    "    accuracy_scikitlearn.append(avg_accuracy_scikit/4)\n",
    "\n",
    "print('From scratch model accuracy: ',accuracy_from_scratch)\n",
    "print('Scikitlearn GNB accuracy: ', accuracy_scikitlearn)"
   ]
  },
  {
   "cell_type": "code",
   "execution_count": 50,
   "metadata": {},
   "outputs": [
    {
     "data": {
      "image/png": "[encoded data removed]",
      "text/plain": [
       "<Figure size 720x576 with 1 Axes>"
      ]
     },
     "metadata": {
      "needs_background": "light"
     },
     "output_type": "display_data"
    }
   ],
   "source": [
    "plt.figure(figsize=(10,8))\n",
    "plt.plot(training_set_size, accuracy_from_scratch, 'o--', label='From scratch')\n",
    "plt.plot(training_set_size, accuracy_scikitlearn, 'o--', label='Scikitlearn package')\n",
    "plt.title('Naive Bayes Learning Curve -From scratch vs ScikitLearn-')\n",
    "plt.xlabel('Number of instances in the training set')\n",
    "plt.ylabel('Average test accuracy')\n",
    "plt.legend()\n",
    "plt.show()"
   ]
  },
  {
   "cell_type": "markdown",
   "metadata": {},
   "source": [
    "### We can observe that both implementations have similar accuracies when using the full size of the training set, while the 'from scratch' implementation performed significantly better when using 25% of the training set."
   ]
  }
 ],
 "metadata": {
  "kernelspec": {
   "display_name": "Python 3",
   "language": "python",
   "name": "python3"
  },
  "language_info": {
   "codemirror_mode": {
    "name": "ipython",
    "version": 3
   },
   "file_extension": ".py",
   "mimetype": "text/x-python",
   "name": "python",
   "nbconvert_exporter": "python",
   "pygments_lexer": "ipython3",
   "version": "3.8.5"
  }
 },
 "nbformat": 4,
 "nbformat_minor": 4
}
